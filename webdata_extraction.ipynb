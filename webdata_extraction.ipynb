{
 "cells": [
  {
   "cell_type": "code",
   "execution_count": 13,
   "metadata": {},
   "outputs": [],
   "source": [
    "import requests\n",
    "from bs4 import BeautifulSoup\n",
    "import pandas as pd\n",
    "import os"
   ]
  },
  {
   "cell_type": "code",
   "execution_count": 14,
   "metadata": {},
   "outputs": [],
   "source": [
    "def get_data_from_catalog(catalog_url):\n",
    "    response = requests.get(catalog_url)\n",
    "    soup = BeautifulSoup(response.content, 'html.parser')\n",
    "    \n",
    "    # Initialize list to store product data\n",
    "    products_data = []\n",
    "\n",
    "    # Example: Find categories and iterate through them\n",
    "    categories = soup.find_all('div', class_='category')\n",
    "    \n",
    "    for category in categories:\n",
    "        category_name = category.find('h2').text.strip()\n",
    "        \n",
    "        # Example: Get subcategories within each category\n",
    "        subcategories = category.find_all('div', class_='subcategory')\n",
    "        \n",
    "        for subcategory in subcategories:\n",
    "            subcategory_name = subcategory.find('h3').text.strip()\n",
    "            \n",
    "            # Example: Get sub-subcategories within each subcategory\n",
    "            sub_subcategories = subcategory.find_all('div', class_='sub-subcategory')\n",
    "            \n",
    "            for sub_subcategory in sub_subcategories:\n",
    "                sub_subcategory_name = sub_subcategory.find('h4').text.strip()\n",
    "                \n",
    "                # Example: Find products within each sub-subcategory\n",
    "                products = sub_subcategory.find_all('div', class_='product')\n",
    "                \n",
    "                for product in products:\n",
    "                    product_name = product.find('span', class_='product-name').text.strip()\n",
    "                    reference = product.find('span', class_='reference').text.strip() if product.find('span', class_='reference') else ''\n",
    "                    other_references = product.find('span', class_='other-references').text.strip() if product.find('span', class_='other-references') else ''\n",
    "                    brand = product.find('span', class_='brand').text.strip() if product.find('span', class_='brand') else ''\n",
    "                    model = product.find('span', class_='model').text.strip() if product.find('span', class_='model') else ''\n",
    "                    price = product.find('span', class_='price').text.strip() if product.find('span', class_='price') else ''\n",
    "                    availability = product.find('span', class_='availability').text.strip() if product.find('span', class_='availability') else ''\n",
    "                    \n",
    "                    # Append product data to list\n",
    "                    products_data.append({\n",
    "                        'Catalog': catalog_url,\n",
    "                        'Category': category_name,\n",
    "                        'Subcategory': subcategory_name,\n",
    "                        'Sub-Subcategory': sub_subcategory_name,\n",
    "                        'Atribut Brand': brand,\n",
    "                        'Atribut Model': model,\n",
    "                        'Product Name': product_name,\n",
    "                        'Reference': reference,\n",
    "                        'Other References': other_references,\n",
    "                        'Suitable for brand': brand,\n",
    "                        'Suitable for model': model,\n",
    "                        'Price': price,\n",
    "                        'Availability': availability\n",
    "                    })\n",
    "    return products_data\n"
   ]
  },
  {
   "cell_type": "code",
   "execution_count": 15,
   "metadata": {},
   "outputs": [
    {
     "name": "stdout",
     "output_type": "stream",
     "text": [
      "CSV file has been created and saved to C:\\Users\\user\\Downloads\\products_data.csv\n"
     ]
    }
   ],
   "source": [
    "def main():\n",
    "    base_url = 'https://landwirtschaft.rw.net/'\n",
    "    response = requests.get(base_url)\n",
    "    soup = BeautifulSoup(response.content, 'html.parser')\n",
    "    \n",
    "    # Initialize an empty list to hold all product data\n",
    "    all_products = []\n",
    "    \n",
    "    # Example: Find all catalog URLs and iterate through them\n",
    "    catalogs = soup.find_all('div', class_='catalog')\n",
    "    for catalog in catalogs:\n",
    "        catalog_url = catalog.find('a')['href']\n",
    "        # Get data from each catalog\n",
    "        catalog_data = get_data_from_catalog(catalog_url)\n",
    "        all_products.extend(catalog_data)\n",
    "    \n",
    "    # Convert the list of products data into a DataFrame and save to CSV\n",
    "    df = pd.DataFrame(all_products)\n",
    "    df.to_csv('products_data.csv', index=False)\n",
    "\n",
    "if __name__ == \"__main__\":\n",
    "    main()\n",
    "    # Save to Downloads folder\n",
    "    downloads_path = os.path.join(os.path.expanduser(\"~\"), \"Downloads\", \"products_data.csv\")\n",
    "    df.to_csv(downloads_path, index=False)\n",
    "    print(f\"CSV file has been created and saved to {downloads_path}\")"
   ]
  }
 ],
 "metadata": {
  "kernelspec": {
   "display_name": "Python 3",
   "language": "python",
   "name": "python3"
  },
  "language_info": {
   "codemirror_mode": {
    "name": "ipython",
    "version": 3
   },
   "file_extension": ".py",
   "mimetype": "text/x-python",
   "name": "python",
   "nbconvert_exporter": "python",
   "pygments_lexer": "ipython3",
   "version": "3.11.6"
  }
 },
 "nbformat": 4,
 "nbformat_minor": 2
}
